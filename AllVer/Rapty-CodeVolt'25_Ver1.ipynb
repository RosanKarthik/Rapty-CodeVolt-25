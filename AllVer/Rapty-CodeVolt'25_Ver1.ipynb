{
 "cells": [
  {
   "cell_type": "markdown",
   "id": "aba61479-72e9-4b90-bd2a-7b005d3471ea",
   "metadata": {},
   "source": [
    "## Libraries And Modules"
   ]
  },
  {
   "cell_type": "code",
   "execution_count": 1,
   "id": "eefd1351-5b15-4972-9077-439c779aad27",
   "metadata": {},
   "outputs": [],
   "source": [
    "import whisper\n",
    "import numpy as np\n",
    "import transformers\n",
    "from transformers import pipeline\n",
    "import torch\n",
    "import gc\n",
    "from transformers import AutoModelForCausalLM, AutoTokenizer"
   ]
  },
  {
   "cell_type": "markdown",
   "id": "aa6d2c2e-fbea-49b1-b103-29c98cdea9e6",
   "metadata": {},
   "source": [
    "## FunctionDefinitions"
   ]
  },
  {
   "cell_type": "code",
   "execution_count": null,
   "id": "3ea55ba0-87fc-4180-b919-642e0db90ddb",
   "metadata": {
    "jupyter": {
     "source_hidden": true
    }
   },
   "outputs": [],
   "source": [
    "def free_gpu_memory():\n",
    "\n",
    "  if torch.cuda.is_available():\n",
    "    torch.cuda.empty_cache()\n",
    "  \n",
    "  gc.collect()\n",
    "  torch.cuda.empty_cache()"
   ]
  },
  {
   "cell_type": "code",
   "execution_count": null,
   "id": "9101df11-6afb-42a0-b21e-8fe38e80653a",
   "metadata": {
    "jupyter": {
     "source_hidden": true
    }
   },
   "outputs": [],
   "source": [
    "device = 0 if torch.cuda.is_available() else -1 "
   ]
  },
  {
   "cell_type": "markdown",
   "id": "f58fbc75-5d29-494e-83a2-77d05ba1f799",
   "metadata": {},
   "source": [
    "## WhisperTranscription(SpeechToText)"
   ]
  },
  {
   "cell_type": "code",
   "execution_count": 4,
   "id": "c729c19c-fd1d-49d6-993b-293462b3eae3",
   "metadata": {},
   "outputs": [],
   "source": [
    "def transcribe_audio(file_path, model_type, language):\n",
    "    model = whisper.load_model(model_type)\n",
    "    result = model.transcribe(file_path,\n",
    "                              language=language,\n",
    "                              task=\"transcribe\",\n",
    "                              )\n",
    "    return result[\"text\"]"
   ]
  },
  {
   "cell_type": "code",
   "execution_count": 5,
   "id": "cd37015d-33cd-484c-97c8-2fa81ea953a7",
   "metadata": {},
   "outputs": [
    {
     "name": "stdout",
     "output_type": "stream",
     "text": [
      "English :  Tell me about a tourist place near Teenagar.\n"
     ]
    }
   ],
   "source": [
    "file_path = \"Tourist_Place.m4a\"\n",
    "en_transcribed_text = transcribe_audio(file_path, \"medium\", language=\"en\")\n",
    "print(\"English :\", en_transcribed_text)\n",
    "\n",
    "free_gpu_memory()"
   ]
  },
  {
   "cell_type": "markdown",
   "id": "9a355ca0-5222-456e-bbf0-e003e1bdeaf6",
   "metadata": {},
   "source": [
    "## LLMLoading(DeepSeekR1)"
   ]
  },
  {
   "cell_type": "code",
   "execution_count": 12,
   "id": "c28b1d7a-3e4f-4d5b-98cd-f3adabf42d86",
   "metadata": {},
   "outputs": [],
   "source": [
    "model_name = \"deepseek-ai/DeepSeek-R1-Distill-Qwen-1.5B\"\n",
    "tokenizer = AutoTokenizer.from_pretrained(model_name)\n",
    "model = AutoModelForCausalLM.from_pretrained(model_name, torch_dtype=torch.float16, device_map=\"cuda\")"
   ]
  },
  {
   "cell_type": "code",
   "execution_count": 13,
   "id": "38c57d8e-0e11-4f07-ac08-c917414822fa",
   "metadata": {
    "jupyter": {
     "source_hidden": true
    }
   },
   "outputs": [],
   "source": [
    "# def get_ai_response(prompt):\n",
    "#     \"\"\"Generates a response using DeepSeek-R1-Distill-Qwen-1.5B.\"\"\"\n",
    "#     print(\"Generating AI response...\")\n",
    "#     inputs = tokenizer(prompt, return_tensors=\"pt\").to(\"cuda\")\n",
    "#     output = model.generate(\n",
    "#     **inputs,\n",
    "#     max_new_tokens=300,\n",
    "#     eos_token_id=tokenizer.eos_token_id,\n",
    "#     do_sample=True,  # Enable sampling for variability\n",
    "#     top_p=0.9,       # Controls the probability mass considered\n",
    "#     temperature=0.7   # Controls randomness (lower = more deterministic)\n",
    "#     )\n",
    "\n",
    "#     response = tokenizer.decode(output[0], skip_special_tokens=True)\n",
    "#     return response"
   ]
  },
  {
   "cell_type": "code",
   "execution_count": null,
   "id": "ecb2ae65-1343-4267-8360-643840b004ed",
   "metadata": {},
   "outputs": [],
   "source": [
    "\n",
    "tokenizer.pad_token = tokenizer.eos_token  \n",
    "\n",
    "def get_deepseek_response(prompt):\n",
    "    system_prompt = (\"You are an AI assistant that provides concise and direct answers. \"\n",
    "                     \"Do not include unnecessary thoughts or self-reflections. \"\n",
    "                     \"Give factual and to-the-point responses.\")\n",
    "\n",
    "    full_prompt = f\"{system_prompt}\\n\\nUser: {prompt}\\nAI:\"\n",
    "\n",
    "    inputs = tokenizer(full_prompt, return_tensors=\"pt\", padding=True, truncation=True)\n",
    "    input_ids = inputs.input_ids.to(model.device)\n",
    "    attention_mask = inputs.attention_mask.to(model.device)\n",
    "    \n",
    "    with torch.no_grad():\n",
    "        output_ids = model.generate(\n",
    "            input_ids,\n",
    "            attention_mask=attention_mask,  # Explicitly pass attention mask\n",
    "            max_new_tokens=100,  # Limits response length\n",
    "            temperature=0.3,  # Reduces randomness for factual responses\n",
    "            top_k=40,  # Ensures relevant words are chosen\n",
    "            repetition_penalty=1.05,  # Prevents repetition\n",
    "            eos_token_id=tokenizer.eos_token_id  # Stops generation at the end\n",
    "        )\n",
    "    \n",
    "    response = tokenizer.decode(output_ids[0], skip_special_tokens=True)\n",
    "    \n",
    "    # Remove system prompt from response\n",
    "    return response.replace(full_prompt, \"\").strip()\n"
   ]
  },
  {
   "cell_type": "markdown",
   "id": "f5509524-2d26-48f0-832f-73dca020b5e0",
   "metadata": {},
   "source": [
    "## DeepSeek Output"
   ]
  },
  {
   "cell_type": "code",
   "execution_count": 15,
   "id": "0aee785f-851b-400c-8483-68629892838b",
   "metadata": {},
   "outputs": [
    {
     "name": "stderr",
     "output_type": "stream",
     "text": [
      "Setting `pad_token_id` to `eos_token_id`:151643 for open-end generation.\n"
     ]
    },
    {
     "name": "stdout",
     "output_type": "stream",
     "text": [
      "There are several tourist spots near T-Nagar in Chennai. One popular one is the \"Chennai Zoo & Botanical Garden,\" which offers a variety of exhibits and is a great place for both children and adults. Another option is the \"Chennai National Park,\" which is known for its natural beauty and wildlife habitats. Additionally, there's the \"Chennai Zoo,\" which is more kid-friendly and has interactive exhibits. Each of these places offers unique experiences that can make your visit memorable.\n"
     ]
    }
   ],
   "source": [
    "prompt = \"Tell me about a tourist spot near T-Nagar, Chennai\"\n",
    "deepseek_response = get_deepseek_response(prompt)\n",
    "\n",
    "print(deepseek_response)"
   ]
  },
  {
   "cell_type": "markdown",
   "id": "59b26483-629f-4e25-a402-7876416408fb",
   "metadata": {},
   "source": [
    "## PyTTS(TextToSpeech)"
   ]
  },
  {
   "cell_type": "code",
   "execution_count": 12,
   "id": "2d67c4b2-bf85-4458-b55b-040365d0d82f",
   "metadata": {},
   "outputs": [
    {
     "name": "stdout",
     "output_type": "stream",
     "text": [
      "Rate :  140\n",
      "Volume :  1.0\n"
     ]
    }
   ],
   "source": [
    "import pyttsx3 as tts\n",
    "engine = tts.init() # object creation\n",
    "\n",
    "\"\"\" RATE\"\"\"\n",
    "rate = engine.getProperty('rate')   # getting details of current speaking rate\n",
    "print (\"Rate : \",rate)                        #printing current voice rate\n",
    "engine.setProperty('rate', 125)     # setting up new voice rate\n",
    "\n",
    "\n",
    "\"\"\"VOLUME\"\"\"\n",
    "volume = engine.getProperty('volume')   #getting to know current volume level (min=0 and max=1)\n",
    "print (\"Volume : \",volume)                          #printing current volume level\n",
    "engine.setProperty('volume',1.0)    # setting up volume level  between 0 and 1\n",
    "\n",
    "\"\"\"VOICE\"\"\"\n",
    "voices = engine.getProperty('voices')       #getting details of current voice\n",
    "#engine.setProperty('voice', voices[0].id)  #changing index, changes voices. o for male\n",
    "engine.setProperty('voice', voices[0].id)   #changing index, changes voices. 1 for female\n",
    "\n",
    "engine.say(deepseek_response)\n",
    "engine.say('My current speaking rate is ' + str(rate))\n",
    "engine.runAndWait()\n",
    "if engine._inLoop:\n",
    "    engine.endLoop()\n",
    "engine.stop()\n",
    "\n",
    "# \"\"\"Saving Voice to a file\"\"\"\n",
    "\n",
    "# engine.save_to_file('Hello World', 'test.mp3')\n",
    "# engine.runAndWait()\n",
    "\n",
    "# if engine._inLoop:\n",
    "#     engine.endLoop()"
   ]
  },
  {
   "cell_type": "code",
   "execution_count": 2,
   "id": "c7e43698-237f-4291-8639-230895a7534d",
   "metadata": {},
   "outputs": [],
   "source": [
    " # temp=\"\"\"There are several tourist spots near T-Nagar in Chennai. One popular one is the \"Chennai Zoo & Botanical Garden,\" which offers a variety of exhibits and is a great place for both children and adults. Another option is the \"Chennai National Park,\" which is known for its natural beauty and wildlife habitats. Additionally, there's the \"Chennai Zoo,\" which is more kid-friendly and has interactive exhibits. Each of these places offers unique experiences that can make your visit memorable.\"\"\""
   ]
  }
 ],
 "metadata": {
  "kernelspec": {
   "display_name": "Python 3 (ipykernel)",
   "language": "python",
   "name": "python3"
  },
  "language_info": {
   "codemirror_mode": {
    "name": "ipython",
    "version": 3
   },
   "file_extension": ".py",
   "mimetype": "text/x-python",
   "name": "python",
   "nbconvert_exporter": "python",
   "pygments_lexer": "ipython3",
   "version": "3.10.11"
  }
 },
 "nbformat": 4,
 "nbformat_minor": 5
}
